{
 "cells": [
  {
   "cell_type": "markdown",
   "metadata": {},
   "source": [
    "# Processes VeriComm Pins"
   ]
  },
  {
   "cell_type": "code",
   "execution_count": 1,
   "metadata": {},
   "outputs": [
    {
     "name": "stdout",
     "output_type": "stream",
     "text": [
      "CSV data has been processed and saved to output.json.\n"
     ]
    }
   ],
   "source": [
    "import csv\n",
    "import json\n",
    "\n",
    "# Input CSV file path\n",
    "csv_file_path = 'VERICOMM_MAP.csv'\n",
    "\n",
    "# Output JSON file path\n",
    "json_file_path = 'VERICOMM_MAP.json'\n",
    "\n",
    "# To account for the ouptut index number offset (1~54)\n",
    "output_index_offset = 1\n",
    "\n",
    "# Initialize the result dictionary\n",
    "result = {\n",
    "    \"input\": {},\n",
    "    \"output\": {}\n",
    "}\n",
    "\n",
    "# Open the CSV file\n",
    "with open(csv_file_path, mode='r', newline='') as csvfile:\n",
    "    csvreader = csv.reader(csvfile)\n",
    "    \n",
    "    # Skip the header rows\n",
    "    next(csvreader)\n",
    "    next(csvreader)\n",
    "    next(csvreader)\n",
    "    next(csvreader)\n",
    "    \n",
    "    # Read the subsequent rows\n",
    "    for row in csvreader:\n",
    "        # Extract the input and output values (columns 1 and 3 for Input and Output)\n",
    "        input_value = row[0].strip() if row[0] else None\n",
    "        output_value = row[2].strip() if row[2] else None\n",
    "        input_pin = row[1].strip() if row[1] else None\n",
    "        output_pin = row[3].strip() if row[3] else None\n",
    "        \n",
    "        # Process the input values\n",
    "        if input_value and input_pin:\n",
    "            input_name, input_index = input_value.split()\n",
    "            # Mapping index -> pin\n",
    "            # result[\"input\"].append({ input_index: input_pin })\n",
    "            # result[\"input\"][input_index] = input_pin\n",
    "            # Mapping pin -> index\n",
    "            result[\"input\"][input_pin] = int(input_index)\n",
    "        \n",
    "        # Process the output values\n",
    "        if output_value and output_pin:\n",
    "            output_name, output_index = output_value.split()\n",
    "            # Mapping index -> pin\n",
    "            # result[\"output\"].append({ output_index: output_pin })\n",
    "            # result[\"output\"][output_index] = output_pin\n",
    "            #  Mapping pin -> index\n",
    "            result[\"output\"][output_pin] = int(int(output_index) + output_index_offset)\n",
    "\n",
    "# Write the result to a JSON file\n",
    "with open(json_file_path, 'w') as jsonfile:\n",
    "    json.dump(result, jsonfile, indent=4)\n",
    "\n",
    "print(\"CSV data has been processed and saved to output.json.\")"
   ]
  },
  {
   "cell_type": "markdown",
   "metadata": {},
   "source": [
    "# Processes GPIO Pins"
   ]
  },
  {
   "cell_type": "code",
   "execution_count": 2,
   "metadata": {},
   "outputs": [
    {
     "name": "stdout",
     "output_type": "stream",
     "text": [
      "CSV data has been processed and saved to output.json.\n"
     ]
    }
   ],
   "source": [
    "import csv\n",
    "import json\n",
    "\n",
    "# Input CSV file path\n",
    "csv_file_path = 'VERICOMM_MAP_EXT.csv'\n",
    "\n",
    "# Output JSON file path\n",
    "json_file_path = 'GPIO.json'\n",
    "json_file_path_1 = 'GPIO1.json'\n",
    "\n",
    "# To account for the ouptut index number offset (1~54)\n",
    "output_index_offset = 1\n",
    "\n",
    "# Initialize the result dictionary\n",
    "result = {\n",
    "    \"J7\": {},\n",
    "    \"J8\": {}\n",
    "}\n",
    "\n",
    "result1 = {\n",
    "    \"J7\": {}, \n",
    "    \"J8\": {}\n",
    "}\n",
    "\n",
    "# Open the CSV file\n",
    "with open(csv_file_path, mode='r', newline='') as csvfile:\n",
    "    csvreader = csv.reader(csvfile)\n",
    "    \n",
    "    # Skip the header rows\n",
    "    next(csvreader)\n",
    "    next(csvreader)\n",
    "    next(csvreader)\n",
    "    \n",
    "    # Read the subsequent rows\n",
    "    for row in csvreader:\n",
    "        # Extract the input and output values (columns 1 and 3 for Input and Output)\n",
    "        j7_fpga_io_1 = row[8].strip() if row[8] else None\n",
    "        j7_location_1 = row[9].strip() if row[9] else None\n",
    "        j7_fpga_io_2 = row[10].strip() if row[10] else None\n",
    "        j7_location_2 = row[11].strip() if row[11] else None\n",
    "\n",
    "        j8_fpga_io_1 = row[12].strip() if row[12] else None\n",
    "        j8_location_1 = row[13].strip() if row[13] else None\n",
    "        j8_fpga_io_2 = row[14].strip() if row[14] else None\n",
    "        j8_location_2 = row[15].strip() if row[15] else None\n",
    "\n",
    "        \n",
    "\n",
    "        if j7_fpga_io_1 and j7_location_1:\n",
    "            result1['J7'][j7_location_1] = j7_fpga_io_1\n",
    "            if j7_fpga_io_1 != \"N.C.\":\n",
    "                result['J7'][j7_fpga_io_1] = j7_location_1\n",
    "        \n",
    "        if j7_fpga_io_2 and j7_location_2:\n",
    "            result1['J7'][j7_location_2] = j7_fpga_io_2\n",
    "            if j7_fpga_io_2 != \"N.C.\":\n",
    "                result['J7'][j7_fpga_io_2] = j7_location_2\n",
    "\n",
    "        if j8_fpga_io_1 and j8_location_1:\n",
    "            result1['J8'][j8_location_1] = j8_fpga_io_1\n",
    "            if j8_fpga_io_1 != \"N.C.\":\n",
    "                result['J8'][j8_fpga_io_1] = j8_location_1\n",
    "        \n",
    "        if j8_fpga_io_2 and j8_location_2:\n",
    "            result1['J8'][j8_location_2] = j8_fpga_io_2\n",
    "            if j8_fpga_io_2 != \"N.C.\":\n",
    "                result['J8'][j8_fpga_io_2] = j8_location_2\n",
    "        \n",
    "\n",
    "# Write the result to a JSON file\n",
    "with open(json_file_path, 'w') as jsonfile:\n",
    "    json.dump(result, jsonfile, indent=4)\n",
    "with open(json_file_path_1, 'w') as jsonfile:\n",
    "    json.dump(result1, jsonfile, indent=4)\n",
    "\n",
    "print(\"CSV data has been processed and saved to output.json.\")"
   ]
  },
  {
   "cell_type": "code",
   "execution_count": null,
   "metadata": {},
   "outputs": [],
   "source": []
  }
 ],
 "metadata": {
  "kernelspec": {
   "display_name": "base",
   "language": "python",
   "name": "python3"
  },
  "language_info": {
   "codemirror_mode": {
    "name": "ipython",
    "version": 3
   },
   "file_extension": ".py",
   "mimetype": "text/x-python",
   "name": "python",
   "nbconvert_exporter": "python",
   "pygments_lexer": "ipython3",
   "version": "3.11.8"
  }
 },
 "nbformat": 4,
 "nbformat_minor": 2
}
